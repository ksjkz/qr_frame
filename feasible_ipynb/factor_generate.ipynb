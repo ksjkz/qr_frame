{
 "cells": [
  {
   "cell_type": "code",
   "execution_count": 1,
   "metadata": {},
   "outputs": [
    {
     "name": "stdout",
     "output_type": "stream",
     "text": [
      "Connection error.\n",
      "生成因子出错开始等待...\n"
     ]
    }
   ],
   "source": [
    "from base.data_loader import DataLoader\n",
    "import base.factor_generate as ffg\n",
    "from base.memory import*\n",
    "from tqdm import tqdm\n",
    "import pandas as pd\n",
    "import numpy as np\n",
    "from IPython.display import clear_output\n",
    "import time\n",
    "from base.formulate_coding_AST import *\n",
    "A=DataLoader()\n",
    "df=A.get_Validateset()\n",
    "aaaa={}\n",
    "while True:\n",
    "    try:\n",
    "        output=ffg.generate_Initial_Factor(batch_name='TT',factor_num=4,complexity=set_complexity(),is_show=False)\n",
    "        print('generate_Initial_Factor已生成,生成因子数量：{}'.format(len(output)))\n",
    "        print(output)\n",
    "        f_c_eval(df=df,input=output)\n",
    "    except Exception as e:\n",
    "                 clear_output(wait=True)\n",
    "                 print(e)\n",
    "                 print(\"生成因子出错开始等待...\")\n",
    "                 time.sleep(1)  # 等待600秒（10分钟）\n",
    "                 print(\"等待结束\")\n",
    "                 continue\n",
    "        \n",
    "                   \n",
    "\n",
    "\n"
   ]
  },
  {
   "cell_type": "code",
   "execution_count": null,
   "metadata": {},
   "outputs": [],
   "source": []
  },
  {
   "cell_type": "code",
   "execution_count": null,
   "metadata": {},
   "outputs": [],
   "source": []
  }
 ],
 "metadata": {
  "kernelspec": {
   "display_name": "myenv",
   "language": "python",
   "name": "python3"
  },
  "language_info": {
   "codemirror_mode": {
    "name": "ipython",
    "version": 3
   },
   "file_extension": ".py",
   "mimetype": "text/x-python",
   "name": "python",
   "nbconvert_exporter": "python",
   "pygments_lexer": "ipython3",
   "version": "3.11.9"
  }
 },
 "nbformat": 4,
 "nbformat_minor": 2
}
