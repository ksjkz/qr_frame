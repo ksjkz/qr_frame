{
 "cells": [
  {
   "cell_type": "code",
   "execution_count": 1,
   "metadata": {},
   "outputs": [
    {
     "name": "stdout",
     "output_type": "stream",
     "text": [
      "总共8个因子 现在计算第4个因子  因子公式：sub(ts_rank(ADJ_D_CLOSE, 20), div(ts_std(ADJ_D_CLOSE, 20), log(ts_mean(YUAN_VOLUME, 20))))\n",
      "要解析的公式为\n",
      "sub(ts_rank(ADJ_D_CLOSE, 20), div(ts_std(ADJ_D_CLOSE, 20), log(ts_mean(YUAN_VOLUME, 20))))\n",
      "解析生成的前序表达式为\n",
      "['sub', 'ts_rank', 'ADJ_D_CLOSE', 20, 'div', 'ts_std', 'ADJ_D_CLOSE', 20, 'log', 'ts_mean', 'YUAN_VOLUME', 20]\n",
      "\n",
      "-------------每一步的代码已由抽象语法树解析生成---------------\n",
      "df['step_1']=df['YUAN_VOLUME'].rolling(window=20).mean()\n",
      "df['step_2']=np.log(df['step_1'])\n",
      "df['step_3']=df['ADJ_D_CLOSE'].rolling(window=20).std()\n",
      "df['step_4']=np.where(df['step_2'] != 0, df['step_3'] / df['step_2'], np.nan)\n",
      "df['step_5']=df['ADJ_D_CLOSE'].rolling(window=20).apply(lambda x: np.argsort(list(x)).argsort()[-1],raw=True)\n",
      "df['step_6']=df['step_5']-df['step_4']\n"
     ]
    },
    {
     "name": "stderr",
     "output_type": "stream",
     "text": [
      "正在计算因子值:  33%|███▎      | 2/6 [00:00<00:00, 17.32it/s]"
     ]
    },
    {
     "name": "stdout",
     "output_type": "stream",
     "text": [
      "正在执行的代码是df['step_1']=df['YUAN_VOLUME'].rolling(window=20).mean()\n",
      "----------------------此步骤执行完成---------------------------\n",
      "正在执行的代码是df['step_2']=np.log(df['step_1'])\n",
      "----------------------此步骤执行完成---------------------------\n",
      "正在执行的代码是df['step_3']=df['ADJ_D_CLOSE'].rolling(window=20).std()\n"
     ]
    },
    {
     "name": "stderr",
     "output_type": "stream",
     "text": [
      "正在计算因子值:  67%|██████▋   | 4/6 [00:00<00:00, 13.53it/s]"
     ]
    },
    {
     "name": "stdout",
     "output_type": "stream",
     "text": [
      "----------------------此步骤执行完成---------------------------\n",
      "正在执行的代码是df['step_4']=np.where(df['step_2'] != 0, df['step_3'] / df['step_2'], np.nan)\n",
      "----------------------此步骤执行完成---------------------------\n",
      "正在执行的代码是df['step_5']=df['ADJ_D_CLOSE'].rolling(window=20).apply(lambda x: np.argsort(list(x)).argsort()[-1],raw=True)\n"
     ]
    },
    {
     "name": "stderr",
     "output_type": "stream",
     "text": [
      "                                                             "
     ]
    },
    {
     "name": "stdout",
     "output_type": "stream",
     "text": [
      "----------------------此步骤执行完成---------------------------\n",
      "正在执行的代码是df['step_6']=df['step_5']-df['step_4']\n",
      "----------------------此步骤执行完成---------------------------\n",
      "\n",
      "------------------全部计算步骤已经完成------------\n",
      "\n",
      "--------------计算中出现的中间列已经delete------------\n",
      "\n",
      "----df的最后一列重新命名为1748392_VOLATILITY_ADJ_RANK-----------\n"
     ]
    },
    {
     "name": "stderr",
     "output_type": "stream",
     "text": [
      "\r"
     ]
    },
    {
     "name": "stdout",
     "output_type": "stream",
     "text": [
      "1748392_VOLATILITY_ADJ_RANK\n"
     ]
    },
    {
     "name": "stderr",
     "output_type": "stream",
     "text": [
      "正在回测:  65%|██████▍   | 776/1194 [00:01<00:00, 795.53it/s]"
     ]
    }
   ],
   "source": [
    "from base.memory import *\n",
    "from base.factor_generate import *\n",
    "from base.agent_improve import *\n",
    "from base.data_loader import DataLoader\n",
    "from IPython.display import clear_output\n",
    "import time\n",
    "from base.formulate_coding_AST import *\n",
    "A=DataLoader(file_path='dataset/all17to24.csv')\n",
    "df=A.get_Validateset()\n",
    "ana=''\n",
    "output=[]\n",
    "_,_,output=factor_loader2()\n",
    "while(1):\n",
    "         \n",
    "          a,_,_=factor_loader2(split_num=10)\n",
    "\n",
    "          if random.randint(0, 10)== 5:\n",
    "                  _,a,_=factor_loader2(split_num=10)\n",
    "          if random.randint(0, 100)== 5:\n",
    "                  _,_,a=factor_loader2(split_num=10)\n",
    "\n",
    "          try:\n",
    "     \n",
    "                    fc=FactorComparisonAgent(verbose=False)\n",
    "                    ana=fc.compare(generated_factors=output, good_factors=a)\n",
    "                    print('输出的建议是:')\n",
    "                    print(ana)\n",
    "                    clear_output(wait=True)\n",
    "\n",
    "          except:\n",
    "               continue\n",
    "          \n",
    "          try:\n",
    "                   \n",
    "                    fg=FactorGenerationAgent(verbose=False)\n",
    "                    output1=fg.generate(ana,complexity=set_complexity(), factor_num=8)\n",
    "                    time.sleep(2)\n",
    "                    clear_output(wait=True)\n",
    "                    output1=f_c_eval(df=df,input=output1,save_path='factor_agent.json',wait_opt=False)\n",
    "                    output=select_top_n_factor(output1,output,n=8)\n",
    "                    #time.sleep(10)\n",
    "                    clear_output(wait=True)\n",
    "\n",
    "                   \n",
    "          except Exception as e:\n",
    "               print(e)\n",
    "               continue"
   ]
  }
 ],
 "metadata": {
  "kernelspec": {
   "display_name": "myenv",
   "language": "python",
   "name": "python3"
  },
  "language_info": {
   "codemirror_mode": {
    "name": "ipython",
    "version": 3
   },
   "file_extension": ".py",
   "mimetype": "text/x-python",
   "name": "python",
   "nbconvert_exporter": "python",
   "pygments_lexer": "ipython3",
   "version": "3.11.9"
  }
 },
 "nbformat": 4,
 "nbformat_minor": 2
}
